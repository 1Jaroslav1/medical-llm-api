{
 "cells": [
  {
   "cell_type": "code",
   "execution_count": 1,
   "id": "4ba68c61-b98f-408e-a15f-e18bea87674e",
   "metadata": {},
   "outputs": [],
   "source": [
    "from langchain.chains.conversation.memory import ConversationBufferWindowMemory\n",
    "from langchain.chains import ConversationChain\n",
    "from langchain.llms import HuggingFacePipeline\n",
    "from langchain.prompts.prompt import PromptTemplate\n",
    "from langchain.schema import HumanMessage, AIMessage\n",
    "from transformers import (\n",
    "    AutoModelForCausalLM,\n",
    "    AutoTokenizer,\n",
    "    pipeline,\n",
    ")\n",
    "import torch\n",
    "import openai\n",
    "from langchain.llms import OpenAI\n",
    "from dotenv import load_dotenv, find_dotenv\n",
    "from app.schema import HistoryItem, ChatItem\n",
    "from typing import List"
   ]
  },
  {
   "cell_type": "code",
   "execution_count": 2,
   "id": "dfd85de6-f0e7-4649-b128-f71331dcaf45",
   "metadata": {},
   "outputs": [],
   "source": [
    "DEVICE_TYPE = \"cuda\"\n",
    "# model_id = \"atom92/medical-meta-llama-2-7b\"\n",
    "# model_id = \"atom92/power-medical-meta-llama-2\"\n",
    "model_id = \"atom92/medical_lama_ultra\"\n",
    "# model_id = \"atom92/medical-token-llama-2-healthwa-3\""
   ]
  },
  {
   "cell_type": "code",
   "execution_count": 4,
   "id": "d401d17b-2ebf-4565-8c12-384d8985e2a5",
   "metadata": {},
   "outputs": [],
   "source": [
    "tokenizer = AutoTokenizer.from_pretrained(model_id, use_fast=True)\n",
    "# logging.info(\"Tokenizer loaded\")"
   ]
  },
  {
   "cell_type": "code",
   "execution_count": 5,
   "id": "a4b2a450-e313-4a94-8e5e-74e854737224",
   "metadata": {},
   "outputs": [
    {
     "data": {
      "application/vnd.jupyter.widget-view+json": {
       "model_id": "3c39e2ec623f456393641565bdfe0ac3",
       "version_major": 2,
       "version_minor": 0
      },
      "text/plain": [
       "Loading checkpoint shards:   0%|          | 0/3 [00:00<?, ?it/s]"
      ]
     },
     "metadata": {},
     "output_type": "display_data"
    }
   ],
   "source": [
    "model = AutoModelForCausalLM.from_pretrained(\n",
    "    model_id,\n",
    "    device_map={\"\": 0},\n",
    "    torch_dtype=torch.bfloat16,\n",
    "    low_cpu_mem_usage=True,\n",
    "    trust_remote_code=True,\n",
    "    max_memory={0: \"17GiB\", 1: \"17GiB\"},\n",
    "    offload_folder=\"/tmp/offload\"\n",
    ")\n",
    "model.tie_weights()"
   ]
  },
  {
   "cell_type": "code",
   "execution_count": 6,
   "id": "22c89a81-15be-4e20-8be0-13446b1d8b8d",
   "metadata": {},
   "outputs": [],
   "source": [
    "pipe = pipeline(\n",
    "    \"text-generation\",\n",
    "    model=model,\n",
    "    tokenizer=tokenizer,\n",
    "    max_new_tokens=254,\n",
    "    do_sample=True,\n",
    "    temperature=0.9,\n",
    "    top_p=0.5,\n",
    "    top_k=50,\n",
    "    repetition_penalty=1.1,\n",
    ")\n",
    "local_llm = HuggingFacePipeline(pipeline=pipe)\n",
    "window_memory = ConversationBufferWindowMemory(ai_prefix=\"AI Assistant\", k=2, return_messages=True)"
   ]
  },
  {
   "cell_type": "code",
   "execution_count": 8,
   "id": "d3ef6924-5dc0-4e76-8776-99a3ef9373e7",
   "metadata": {},
   "outputs": [],
   "source": [
    "template = \"\"\"You are a helpful virtual medical assistant that delivers precise, succinct information from established medical knowledge. You only respond in English clearly, precisely and briefly.\n",
    "\n",
    "Current conversation:\n",
    "{history}\n",
    "Human: {input}\n",
    "AI Assistant:\"\"\"\n",
    "PROMPT = PromptTemplate(input_variables=[\"history\", \"input\"], template=template)"
   ]
  },
  {
   "cell_type": "code",
   "execution_count": 9,
   "id": "7d1d5438-38b6-472b-90b0-3d8b12e2e6f6",
   "metadata": {},
   "outputs": [],
   "source": [
    "conversation = ConversationChain(\n",
    "    prompt=PROMPT,\n",
    "    llm=local_llm,\n",
    "    verbose=True,\n",
    "    memory=window_memory\n",
    ")"
   ]
  },
  {
   "cell_type": "code",
   "execution_count": 10,
   "id": "43b76116-5ffe-472d-a869-86b06ef920e1",
   "metadata": {},
   "outputs": [
    {
     "name": "stderr",
     "output_type": "stream",
     "text": [
      "/root/medical-llm-api/myenv/lib/python3.10/site-packages/langchain_core/_api/deprecation.py:117: LangChainDeprecationWarning: The function `run` was deprecated in LangChain 0.1.0 and will be removed in 0.2.0. Use invoke instead.\n",
      "  warn_deprecated(\n"
     ]
    },
    {
     "name": "stdout",
     "output_type": "stream",
     "text": [
      "\n",
      "\n",
      "\u001b[1m> Entering new ConversationChain chain...\u001b[0m\n",
      "Prompt after formatting:\n",
      "\u001b[32;1m\u001b[1;3mYou are a helpful virtual medical assistant that delivers precise, succinct information from established medical knowledge. You only respond in English clearly, precisely and briefly.\n",
      "\n",
      "Current conversation:\n",
      "[]\n",
      "Human: What are the signs and symptoms of haemolytic uraemic syndrome (HUS)?\n",
      "AI Assistant:\u001b[0m\n",
      "\n",
      "\u001b[1m> Finished chain.\u001b[0m\n"
     ]
    },
    {
     "data": {
      "text/plain": [
       "' The primary sign of HUS is microscopic hematuria. <END_A>'"
      ]
     },
     "execution_count": 10,
     "metadata": {},
     "output_type": "execute_result"
    }
   ],
   "source": [
    "conversation.run(\"What are the signs and symptoms of haemolytic uraemic syndrome (HUS)?\")"
   ]
  },
  {
   "cell_type": "code",
   "execution_count": 6,
   "id": "0b001673-a231-4b15-97c3-1ef7b53db119",
   "metadata": {},
   "outputs": [],
   "source": []
  },
  {
   "cell_type": "code",
   "execution_count": null,
   "id": "f2ea22e9-028a-453d-a528-d9285585f608",
   "metadata": {},
   "outputs": [
    {
     "name": "stdout",
     "output_type": "stream",
     "text": [
      "\n",
      "\n",
      "\u001b[1m> Entering new ConversationChain chain...\u001b[0m\n",
      "Prompt after formatting:\n",
      "\u001b[32;1m\u001b[1;3mAs a general medical knowledge assistant, I aim to provide accurate and general information based on existing knowledge. However, always consult with a healthcare professional for personalized advice. Based on general medical literature,\n",
      "\n",
      "Current conversation:\n",
      "[]\n",
      "Human: What should I do when I have flu?\n",
      "AI Assistant:\u001b[0m\n"
     ]
    }
   ],
   "source": [
    "conversation.predict(input=\"What should I do when I have flu?\")"
   ]
  },
  {
   "cell_type": "code",
   "execution_count": null,
   "id": "59265445-a215-413b-a4fe-9c0e0263566c",
   "metadata": {},
   "outputs": [
    {
     "name": "stderr",
     "output_type": "stream",
     "text": [
      "/root/medical-llm-api/myenv/lib/python3.10/site-packages/langchain_core/_api/deprecation.py:117: LangChainDeprecationWarning: The function `run` was deprecated in LangChain 0.1.0 and will be removed in 0.2.0. Use invoke instead.\n",
      "  warn_deprecated(\n"
     ]
    },
    {
     "name": "stdout",
     "output_type": "stream",
     "text": [
      "\n",
      "\n",
      "\u001b[1m> Entering new ConversationChain chain...\u001b[0m\n",
      "Prompt after formatting:\n",
      "\u001b[32;1m\u001b[1;3mAs a general medical knowledge assistant, I aim to provide accurate and general information based on existing knowledge. However, always consult with a healthcare professional for personalized advice. Based on general medical literature,\n",
      "\n",
      "Current conversation:\n",
      "[]\n",
      "Human: What should I do when I have flu?\n",
      "AI Assistant:\u001b[0m\n"
     ]
    }
   ],
   "source": [
    "conversation.run(\"What should I do when I have flu?\")"
   ]
  },
  {
   "cell_type": "code",
   "execution_count": null,
   "id": "8767278f-1bda-4fc9-a5d4-eb2c6e0f29d0",
   "metadata": {},
   "outputs": [],
   "source": [
    "async def llm_answer(query: str):\n",
    "        conversation = ConversationChain(\n",
    "            prompt=self._prompt,\n",
    "            llm=self._llm,\n",
    "            verbose=True,\n",
    "            memory=self.generate_memory(history)\n",
    "        )\n",
    "        # print(self.window_memory.load_memory_variables({}))\n",
    "        return conversation.run(query)\n",
    "\n",
    "    @staticmethod\n",
    "    def generate_memory(history: List[HistoryItem]):\n",
    "        memory = ConversationBufferWindowMemory(ai_prefix=\"AI Assistant\", k=2, return_messages=True)\n",
    "        for history_item in history:\n",
    "            memory.save_context({\"input\": history_item.human_message}, {\"output\": history_item.ai_message})\n",
    "        return memory"
   ]
  },
  {
   "cell_type": "code",
   "execution_count": 1,
   "id": "597238ea-fb64-4c63-8aa4-fa40cd7edf84",
   "metadata": {},
   "outputs": [
    {
     "name": "stdout",
     "output_type": "stream",
     "text": [
      "Authtoken saved to configuration file: /root/.config/ngrok/ngrok.yml\n"
     ]
    }
   ],
   "source": [
    "!ngrok authtoken 2Wj8zemKeISGyOt5IETUO93Y4M0_2ZxZGg6ZJQcyC81TfuT7B"
   ]
  },
  {
   "cell_type": "code",
   "execution_count": null,
   "id": "04b73210-5707-4662-ba62-55b681c45005",
   "metadata": {},
   "outputs": [],
   "source": []
  },
  {
   "cell_type": "code",
   "execution_count": null,
   "id": "93a9d78b-cad9-4dbe-bc20-7c05f5383a40",
   "metadata": {},
   "outputs": [
    {
     "name": "stdout",
     "output_type": "stream",
     "text": [
      "\u001b7\u001b[?47h\u001b[?1h\u001b=\u0002\u0007\u001b[H\u001b[2J\u001b[m\u001b[38;5;6m\u001b[48;5;16m\u001b[1m\u001b[1;1Hngrok\u001b[m\u001b[38;5;16m\u001b[48;5;16m                                                           \u001b[m\u001b[38;5;7m\u001b[48;5;16m(Ctrl+C to quit)\u001b[m\u001b[38;5;16m\u001b[48;5;16m\u001b[2;1H                                                                                \u001b[m\u001b[38;5;6m\u001b[48;5;16m\u001b[3;1HSession Status                connecting\u001b[m\u001b[38;5;16m\u001b[48;5;16m                                        \u001b[m\u001b[38;5;7m\u001b[48;5;16m\u001b[4;1HVersion                       3.5.0\u001b[m\u001b[38;5;16m\u001b[48;5;16m                                             \u001b[m\u001b[38;5;7m\u001b[48;5;16m\u001b[5;1HLatency                       -\u001b[m\u001b[38;5;16m\u001b[48;5;16m                                                 \u001b[m\u001b[38;5;7m\u001b[48;5;16m\u001b[6;1HWeb Interface                 http://127.0.0.1:4040\u001b[m\u001b[38;5;16m\u001b[48;5;16m                             \u001b[7;1H                                                                                \u001b[m\u001b[38;5;7m\u001b[48;5;16m\u001b[8;1HConnections                   ttl     opn     rt1     rt5     p50     p90     \u001b[m\u001b[38;5;16m\u001b[48;5;16m  \u001b[m\u001b[38;5;7m\u001b[48;5;16m\u001b[9;1H                              0       0       0.00    0.00    0.00    0.00    \u001b[m\u001b[38;5;16m\u001b[48;5;16m  \u001b[10;1H                                                                                \u001b[11;1H                                                                                \u001b[12;1H                                                                                \u001b[13;1H                                                                                \u001b[14;1H                                                                                \u001b[15;1H                                                                                \u001b[16;1H                                                                                \u001b[17;1H                                                                                \u001b[18;1H                                                                                \u001b[19;1H                                                                                \u001b[20;1H                                                                                \u001b[21;1H                                                                                \u001b[22;1H                                                                                \u001b[23;1H                                                                                \u001b[24;1H                                                                                \u001b[m\u001b[38;5;5m\u001b[48;5;16m\u001b[3;1HBuild better APIs with ngrok. Early access: ngrok.com/early-access\u001b[m\u001b[38;5;16m\u001b[48;5;16m\u001b[4;1H                                   \u001b[m\u001b[38;5;2m\u001b[48;5;16m\u001b[5;1HSession Status                online\u001b[m\u001b[38;5;7m\u001b[48;5;16m\u001b[6;1HAccou\u001b[6;8H      \u001b[6;31Hgarbar.jarek@gmail.com (Plan: Free)\u001b[7;1HVersion                       3.5.0\u001b[8;1HRegion     \u001b[8;31HUnited\u001b[8;38HStates\u001b[8;45H(California) (us-cal-1)\u001b[m\u001b[38;5;16m\u001b[48;5;16m           \u001b[m\u001b[38;5;7m\u001b[48;5;16m\u001b[9;1HLatency\u001b[9;31H-\u001b[m\u001b[38;5;16m\u001b[48;5;16m                                               \u001b[m\u001b[38;5;7m\u001b[48;5;16m\u001b[10;1HWeb Interface                 http://127.0.0.1:4040\u001b[11;1HForwarding                    https://e807-207-189-112-60.ngrok-free.app -> http\u001b[13;1HConnections                   ttl     opn     rt1     rt5     p50     p90     \u001b[14;1H                              0       0       0.00    0.00    0.00    0.00    \u001b[9;31H24ms\u001b[9;32H5\u001b[9;32H7\u001b[9;32H5\u001b[9;32H4\u001b[9;32H5\u001b[14;39H1\u001b[16;1HHTTP Requests\u001b[17;1H-------------\u001b[19;1HPOST\u001b[19;6H/chat\u001b[19;32H200 OK\u001b[9;32H9\u001b[14;31H1\u001b[14;39H0\u001b[14;63H10.84\u001b[14;71H10.84\u001b[14;50H2\u001b[14;50H1\u001b[9;32H4\u001b[9;32H5\u001b[9;32H4\u001b[14;50H0\u001b[9;32H5\u001b[9;32H4\u001b[9;32H5\u001b[9;32H4\u001b[9;32H6\u001b[9;32H4\u001b[9;32H5\u001b[9;32H7\u001b[9;32H4\u001b[9;32H5\u001b[9;31H31\u001b[9;31H25\u001b[9;32H4\u001b[9;32H5\u001b[9;32H4\u001b[9;32H6\u001b[9;32H4\u001b[9;32H5\u001b[9;32H6\u001b[9;32H4\u001b[14;39H1\u001b[m\u001b[38;5;16m\u001b[48;5;16m\u001b[19;32H      \u001b[m\u001b[38;5;7m\u001b[48;5;16m\u001b[20;1HPOST\u001b[20;6H/chat\u001b[20;32H200 OK\u001b[19;32H200 OK\u001b[14;31H2\u001b[14;39H0\u001b[14;66H63\u001b[14;50H2\u001b[14;50H1\u001b[9;32H5\u001b[9;32H4\u001b[14;50H0\u001b[9;31H31\u001b[9;31H24\u001b[9;31H31\u001b[9;31H24\u001b[9;32H5\u001b[9;32H4\u001b[9;32H5\u001b[9;32H4\u001b[9;32H5\u001b[9;32H4\u001b[9;32H5\u001b[9;32H4\u001b[9;32H6\u001b[9;32H5\u001b[9;32H4\u001b[9;32H5\u001b[9;32H4\u001b[9;32H5\u001b[9;32H4\u001b[9;32H5\u001b[9;32H4\u001b[9;32H6\u001b[9;32H5\u001b[9;32H4\u001b[9;32H6\u001b[9;32H4\u001b[9;31H31\u001b[9;31H76\u001b[9;31H25\u001b[9;31H31\u001b[9;31H25\u001b[9;32H4\u001b[14;39H1\u001b[m\u001b[38;5;16m\u001b[48;5;16m\u001b[19;32H      \u001b[m\u001b[38;5;7m\u001b[48;5;16m\u001b[21;1HPOST\u001b[21;6H/chat\u001b[21;32H200 OK\u001b[19;32H200 OK\u001b[14;31H3\u001b[14;39H0\u001b[14;66H42\u001b[14;50H2\u001b[14;50H1\u001b[9;32H5\u001b[9;32H4\u001b[9;32H5\u001b[14;50H0\u001b[9;32H4\u001b[9;31H35\u001b[9;31H24\u001b[9;32H5\u001b[9;32H4\u001b[9;32H5\u001b[14;39H1\u001b[m\u001b[38;5;16m\u001b[48;5;16m\u001b[19;32H      \u001b[m\u001b[38;5;7m\u001b[48;5;16m\u001b[22;1HPOST\u001b[22;6H/chat\u001b[22;32H200 OK\u001b[9;32H4\u001b[19;32H200 OK\u001b[14;31H4\u001b[14;39H0\u001b[14;63H9.37 \u001b[14;50H2\u001b[14;58H1\u001b[14;58H0\u001b[14;50H1\u001b[9;32H5\u001b[9;32H4\u001b[9;32H5\u001b[9;32H4\u001b[14;50H0\u001b[9;32H5\u001b[9;31H31\u001b[9;31H24\u001b[9;32H5\u001b[9;32H4\u001b[9;31H31\u001b[9;31H24\u001b[9;32H5\u001b[14;39H1\u001b[m\u001b[38;5;16m\u001b[48;5;16m\u001b[19;32H      \u001b[m\u001b[38;5;7m\u001b[48;5;16m\u001b[23;1HPOST\u001b[23;6H/chat\u001b[23;32H200 OK\u001b[19;32H200 OK\u001b[9;32H4\u001b[14;31H5\u001b[14;39H0\u001b[14;66H9\u001b[14;50H2\u001b[14;58H1\u001b[14;50H1\u001b[9;32H5\u001b[9;32H4\u001b[14;58H0\u001b[9;31H31\u001b[9;31H24\u001b[9;32H5\u001b[14;50H0\u001b[9;32H4\u001b[9;32H5\u001b[9;31H31\u001b[9;31H24\u001b[9;32H5\u001b[9;32H4\u001b[9;32H5\u001b[9;32H4\u001b[9;32H5\u001b[9;32H4\u001b[9;32H5\u001b[9;31H32\u001b[9;31H24\u001b[9;32H7\u001b[9;32H5\u001b[9;32H4\u001b[9;32H5\u001b[9;32H4\u001b[9;32H8\u001b[9;32H5\u001b[9;32H4\u001b[9;32H5\u001b[14;39H1\u001b[m\u001b[38;5;16m\u001b[48;5;16m\u001b[19;32H      \u001b[m\u001b[38;5;7m\u001b[48;5;16m\u001b[24;1HPOST\u001b[24;6H/chat\u001b[24;32H200 OK\u001b[9;32H4\u001b[19;32H200 OK\u001b[14;31H6\u001b[14;39H0\u001b[14;63H8\u001b[14;65H85\u001b[14;50H2\u001b[14;50H1\u001b[9;32H7\u001b[9;32H8\u001b[9;31H35\u001b[9;31H87\u001b[14;50H0\u001b[9;31H28\u001b[9;32H6\u001b[9;31H83\u001b[9;31H92\u001b[9;31H54\u001b[9;31H60\u001b[9;31H28\u001b[9;32H7\u001b[9;32H9\u001b[9;31H32\u001b[9;31H60\u001b[9;31H32\u001b[9;31H108ms\u001b[9;31H28ms\u001b[m\u001b[38;5;16m\u001b[48;5;16m \u001b[m\u001b[38;5;7m\u001b[48;5;16m\u001b[9;32H4\u001b[9;31H52\u001b[9;31H77\u001b[9;31H55\u001b[9;31H29\u001b[9;32H8\u001b[9;31H31\u001b[9;31H27\u001b[9;32H4\u001b[14;39H1\u001b[m\u001b[38;5;16m\u001b[48;5;16m\u001b[19;32H      \u001b[m\u001b[38;5;7m\u001b[48;5;16m\u001b[19;32H200 OK\u001b[14;31H7\u001b[14;39H0\u001b[14;63H9\u001b[14;65H39\u001b[14;50H2\u001b[14;50H1\u001b[14;39H1\u001b[m\u001b[38;5;16m\u001b[48;5;16m\u001b[19;32H      \u001b[m\u001b[38;5;7m\u001b[48;5;16m\u001b[19;32H200 OK\u001b[14;50H0\u001b[9;32H5\u001b[14;31H8\u001b[14;39H0\u001b[14;63H8\u001b[14;65H85\u001b[14;50H2\u001b[14;58H1\u001b[9;32H4\u001b[14;50H1\u001b[9;32H5\u001b[9;32H4\u001b[9;32H5\u001b[9;32H4\u001b[14;39H1\u001b[m\u001b[38;5;16m\u001b[48;5;16m\u001b[19;32H      \u001b[m\u001b[38;5;7m\u001b[48;5;16m\u001b[19;32H200 OK\u001b[14;31H9\u001b[14;39H0\u001b[14;65H31\u001b[14;50H2\u001b[14;50H1\u001b[9;31H31\u001b[9;32H5\u001b[9;32H7\u001b[14;50H0\u001b[9;32H2\u001b[9;31H29\u001b[9;31H38\u001b[9;32H0\u001b[9;32H2\u001b[9;32H1\u001b[9;31H27\u001b[9;32H6\u001b[14;58H0\u001b[9;32H7\u001b[9;32H5\u001b[9;31H31\u001b[9;31H24\u001b[9;32H5\u001b[9;32H4\u001b[9;32H5\u001b[9;32H4\u001b[9;31H33\u001b[9;31H25\u001b[14;39H1\u001b[m\u001b[38;5;16m\u001b[48;5;16m\u001b[19;32H      \u001b[m\u001b[38;5;7m\u001b[48;5;16m\u001b[19;32H200 OK\u001b[9;31H31\u001b[14;31H10\u001b[14;39H0\u001b[14;50H2\u001b[14;58H1\u001b[14;65H1\u001b[14;75H0\u001b[14;50H1\u001b[9;31H25\u001b[9;31H32\u001b[9;31H25\u001b[9;32H4\u001b[9;32H5\u001b[9;32H4\u001b[9;32H5\u001b[14;50H0\u001b[9;32H4\u001b[9;32H5\u001b[14;58H0\u001b[9;32H4\u001b[14;39H1\u001b[m\u001b[38;5;16m\u001b[48;5;16m\u001b[19;32H      \u001b[m\u001b[38;5;7m\u001b[48;5;16m\u001b[19;32H200 OK\u001b[14;32H1\u001b[14;39H0\u001b[14;63H7\u001b[14;65H90\u001b[14;74H76\u001b[14;50H2\u001b[14;58H1\u001b[14;50H1\u001b[9;32H5\u001b[9;31H32\u001b[9;31H24\u001b[14;50H0\u001b[9;32H5\u001b[9;31H32\u001b[9;31H24\u001b[14;58H0\u001b[9;32H5\u001b[9;32H4\u001b[9;32H6\u001b[9;32H4\u001b[9;32H5\u001b[9;32H6\u001b[9;32H5\u001b[9;32H4\u001b[9;32H8\u001b[9;32H9\u001b[9;32H7\u001b[14;39H1\u001b[m\u001b[38;5;16m\u001b[48;5;16m\u001b[19;32H      \u001b[m\u001b[38;5;7m\u001b[48;5;16m\u001b[9;32H4\u001b[19;32H200 OK\u001b[14;32H2\u001b[14;39H0\u001b[14;65H52\u001b[14;75H2\u001b[14;50H2\u001b[14;58H1\u001b[14;50H1\u001b[14;39H1\u001b[m\u001b[38;5;16m\u001b[48;5;16m\u001b[19;32H      \u001b[m\u001b[38;5;7m\u001b[48;5;16m\u001b[19;32H200 OK\u001b[14;32H3\u001b[14;39H0\u001b[14;50H3\u001b[14;65H15\u001b[14;74H67\u001b[14;50H2\u001b[9;32H5\u001b[14;50H1\u001b[9;32H4\u001b[9;32H5\u001b[9;32H4\u001b[14;50H0\u001b[9;32H5\u001b[9;32H4\u001b[9;32H5\u001b[14;58H0\u001b[9;32H4\u001b[9;32H5\u001b[9;32H4\u001b[9;32H5\u001b[9;32H4\u001b[9;32H7\u001b[9;32H5\u001b[9;32H4\u001b[14;39H1\u001b[m\u001b[38;5;16m\u001b[48;5;16m\u001b[19;32H      \u001b[m\u001b[38;5;7m\u001b[48;5;16m\u001b[19;32H200 OK\u001b[14;32H4\u001b[14;39H0\u001b[14;63H6\u001b[14;65H92\u001b[14;75H3\u001b[14;50H2\u001b[14;58H1\u001b[14;50H1\u001b[9;32H5\u001b[9;32H4\u001b[14;58H0\u001b[14;50H0\u001b[9;32H5\u001b[9;32H4\u001b[9;32H5\u001b[14;39H1\u001b[m\u001b[38;5;16m\u001b[48;5;16m\u001b[19;32H      \u001b[m\u001b[38;5;7m\u001b[48;5;16m\u001b[9;32H4\u001b[19;32H200 OK\u001b[14;32H5\u001b[14;39H0\u001b[14;65H85\u001b[14;74H59\u001b[14;50H2\u001b[14;58H1\u001b[14;50H1\u001b[9;32H8\u001b[14;50H0\u001b[9;32H4\u001b[14;58H0\u001b[9;32H8\u001b[9;32H4\u001b[9;31H31\u001b[9;31H88\u001b[14;39H1\u001b[m\u001b[38;5;16m\u001b[48;5;16m\u001b[19;32H      \u001b[m\u001b[38;5;7m\u001b[48;5;16m\u001b[19;32H200 OK\u001b[9;31H34\u001b[14;32H6\u001b[14;39H0\u001b[14;63H7\u001b[14;65H00\u001b[14;75H5\u001b[14;50H2\u001b[14;58H1\u001b[9;31H2\u001b[14;50H1\u001b[9;32H5\u001b[9;32H4\u001b[14;50H0\u001b[9;32H5\u001b[14;58H0\u001b[9;32H4\u001b[9;32H5\u001b[9;32H4"
     ]
    }
   ],
   "source": [
    "!ngrok http 8000"
   ]
  },
  {
   "cell_type": "code",
   "execution_count": null,
   "id": "89c306d5-9424-49b4-bbbe-1b1df652ce43",
   "metadata": {},
   "outputs": [],
   "source": []
  },
  {
   "cell_type": "code",
   "execution_count": null,
   "id": "cac29b43-ff59-4aac-9633-471365963baf",
   "metadata": {},
   "outputs": [],
   "source": []
  }
 ],
 "metadata": {
  "kernelspec": {
   "display_name": "myenv",
   "language": "python",
   "name": "myenv"
  },
  "language_info": {
   "codemirror_mode": {
    "name": "ipython",
    "version": 3
   },
   "file_extension": ".py",
   "mimetype": "text/x-python",
   "name": "python",
   "nbconvert_exporter": "python",
   "pygments_lexer": "ipython3",
   "version": "3.10.11"
  }
 },
 "nbformat": 4,
 "nbformat_minor": 5
}
